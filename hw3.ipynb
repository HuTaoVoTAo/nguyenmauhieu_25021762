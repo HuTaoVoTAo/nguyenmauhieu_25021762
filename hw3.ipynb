{
 "cells": [
  {
   "cell_type": "code",
   "execution_count": 1,
   "id": "1ba17225",
   "metadata": {},
   "outputs": [
    {
     "name": "stdout",
     "output_type": "stream",
     "text": [
      "a=5,b=7\n",
      "a=7,b=5\n"
     ]
    }
   ],
   "source": [
    "#W3A2\n",
    "a,b=map(int,input().split())\n",
    "print(f'a={a},b={b}')\n",
    "a=a^b\n",
    "b=a^b\n",
    "a=a^b\n",
    "print(f'a={a},b={b}')"
   ]
  },
  {
   "cell_type": "code",
   "execution_count": 7,
   "id": "76c2ae67",
   "metadata": {},
   "outputs": [
    {
     "name": "stdout",
     "output_type": "stream",
     "text": [
      "n la luy thua cua 2\n"
     ]
    }
   ],
   "source": [
    "#W3A3\n",
    "n=int(input())\n",
    "if n&(n-1):\n",
    "    print('n ko phai la luy thua cua 2')\n",
    "else:\n",
    "    print('n la luy thua cua 2')"
   ]
  },
  {
   "cell_type": "code",
   "execution_count": 15,
   "id": "1509b60c",
   "metadata": {},
   "outputs": [
    {
     "name": "stdout",
     "output_type": "stream",
     "text": [
      "3\n"
     ]
    }
   ],
   "source": [
    "#W3A4\n",
    "m,n=map(int,input().split())\n",
    "print(m//n)"
   ]
  },
  {
   "cell_type": "code",
   "execution_count": null,
   "id": "f7ad0ceb",
   "metadata": {},
   "outputs": [
    {
     "name": "stdout",
     "output_type": "stream",
     "text": [
      "4\n"
     ]
    }
   ],
   "source": [
    "#W3A5\n",
    "m,n=map(int,input().split())\n",
    "if m%n==0:\n",
    "    print(m//n):\n",
    "else:\n",
    "    print(m//n+1)"
   ]
  },
  {
   "cell_type": "code",
   "execution_count": 16,
   "id": "1936f958",
   "metadata": {},
   "outputs": [
    {
     "name": "stdout",
     "output_type": "stream",
     "text": [
      "even\n"
     ]
    }
   ],
   "source": [
    "#W3A6\n",
    "x=int(input())\n",
    "print('even' if x%2==0 else 'odd')"
   ]
  },
  {
   "cell_type": "code",
   "execution_count": 18,
   "id": "d47359c5",
   "metadata": {},
   "outputs": [
    {
     "name": "stdout",
     "output_type": "stream",
     "text": [
      "YES\n"
     ]
    }
   ],
   "source": [
    "#W3A7\n",
    "a,b=map(int,input().split())    \n",
    "if a<0 and b<0:\n",
    "    print('YES')\n",
    "else:\n",
    "    print('NO') "
   ]
  },
  {
   "cell_type": "code",
   "execution_count": null,
   "id": "971d8147",
   "metadata": {},
   "outputs": [
    {
     "name": "stdout",
     "output_type": "stream",
     "text": [
      "FALSE\n"
     ]
    }
   ],
   "source": [
    "#W3A8\n",
    "def longger(a,b):\n",
    "    if len(a)>len(b):\n",
    "        return 1\n",
    "    return 0\n",
    "m=input()\n",
    "n=input()\n",
    "if longger(m,n):\n",
    "    print('TRUE')\n",
    "else:\n",
    "    print('FALSE')"
   ]
  },
  {
   "cell_type": "code",
   "execution_count": 22,
   "id": "de9df578",
   "metadata": {},
   "outputs": [
    {
     "name": "stdout",
     "output_type": "stream",
     "text": [
      "YES\n"
     ]
    }
   ],
   "source": [
    "#W3A9\n",
    "a,b,c=map(float,input().split())\n",
    "if a+b>c and a+c>b and b+c>a:\n",
    "    print('YES')\n",
    "else:\n",
    "    print('NO')"
   ]
  },
  {
   "cell_type": "code",
   "execution_count": 23,
   "id": "1c3e1407",
   "metadata": {},
   "outputs": [
    {
     "name": "stdout",
     "output_type": "stream",
     "text": [
      "6\n"
     ]
    }
   ],
   "source": [
    "#W3A10\n",
    "a,b,c,d=map(int,input().split())\n",
    "print(max(a,b,c,d))"
   ]
  },
  {
   "cell_type": "code",
   "execution_count": 24,
   "id": "e5ff916e",
   "metadata": {},
   "outputs": [
    {
     "name": "stdout",
     "output_type": "stream",
     "text": [
      "tam giac vuong\n"
     ]
    }
   ],
   "source": [
    "#W3A11\n",
    "a,b,c=map(int,input('ba canh cua tam giac la:').split())\n",
    "if a+b>c and a+c>b and b+c>a:\n",
    "    if a==b and b==c:\n",
    "        print('tam giac deu')\n",
    "    elif a==b or b==c or a==c:\n",
    "        print('tam giac can')\n",
    "    elif a*a+b*b==c*c or a*a+c*c==b*b or b*b+c*c==a*a:\n",
    "        print('tam giac vuong')\n",
    "    else:\n",
    "        print('tam giac thuong')"
   ]
  },
  {
   "cell_type": "code",
   "execution_count": 25,
   "id": "6aa98d19",
   "metadata": {},
   "outputs": [
    {
     "name": "stdout",
     "output_type": "stream",
     "text": [
      "YES\n"
     ]
    }
   ],
   "source": [
    "#W3A12\n",
    "year=int(input())\n",
    "if (year%4==0 and year%100!=0) or (year%400==0):\n",
    "    print('YES')\n",
    "else:\n",
    "    print('NO')"
   ]
  },
  {
   "cell_type": "code",
   "execution_count": null,
   "id": "d42e4315",
   "metadata": {},
   "outputs": [
    {
     "name": "stdout",
     "output_type": "stream",
     "text": [
      "x=-1.25\n"
     ]
    }
   ],
   "source": [
    "#W3A14\n",
    "a,b=map(int,input().split())\n",
    "if a==0:\n",
    "    if b==0:\n",
    "        print('vo so nghiem')\n",
    "    else:\n",
    "        print('vo nghiem')\n",
    "else:\n",
    "    print(f'x={-b/a}')"
   ]
  },
  {
   "cell_type": "code",
   "execution_count": 28,
   "id": "1232d6dd",
   "metadata": {},
   "outputs": [
    {
     "name": "stdout",
     "output_type": "stream",
     "text": [
      "gioi\n"
     ]
    }
   ],
   "source": [
    "#W3A15\n",
    "n=float(input())\n",
    "if n>=8:\n",
    "    print('gioi')\n",
    "elif n>=6:\n",
    "    print('kha')\n",
    "elif n>=4:\n",
    "    print('trung binh')\n",
    "else:\n",
    "    print('yeu')"
   ]
  },
  {
   "cell_type": "code",
   "execution_count": 2,
   "id": "2105b401",
   "metadata": {},
   "outputs": [
    {
     "name": "stdout",
     "output_type": "stream",
     "text": [
      "5 4 4\n"
     ]
    }
   ],
   "source": [
    "#W3A16\n",
    "n=float(input())\n",
    "n1=n//1\n",
    "if n//1<n:\n",
    "    n1+=1\n",
    "n2=n//1\n",
    "n3=round(n)\n",
    "print(int(n1),int(n2),n3,sep=' ')"
   ]
  },
  {
   "cell_type": "code",
   "execution_count": 9,
   "id": "76432a59",
   "metadata": {},
   "outputs": [
    {
     "name": "stdout",
     "output_type": "stream",
     "text": [
      "YES\n"
     ]
    }
   ],
   "source": [
    "#W3A17\n",
    "a,b,c,d=map(int,input().split())\n",
    "#if a*c==b*b and a*d==b*c and b*d==c*c:\n",
    "#    print('YES')\n",
    "#else:\n",
    "#    print('NO')\n",
    "e=b/a\n",
    "#print (e)\n",
    "if a*e==b and b*e==c and c*e==d:\n",
    "    print('YES')\n",
    "else:\n",
    "    print('NO')"
   ]
  }
 ],
 "metadata": {
  "kernelspec": {
   "display_name": "Python 3",
   "language": "python",
   "name": "python3"
  },
  "language_info": {
   "codemirror_mode": {
    "name": "ipython",
    "version": 3
   },
   "file_extension": ".py",
   "mimetype": "text/x-python",
   "name": "python",
   "nbconvert_exporter": "python",
   "pygments_lexer": "ipython3",
   "version": "3.13.7"
  }
 },
 "nbformat": 4,
 "nbformat_minor": 5
}
