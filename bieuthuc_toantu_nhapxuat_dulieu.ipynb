{
 "cells": [
  {
   "cell_type": "markdown",
   "id": "9d2728f3",
   "metadata": {},
   "source": [
    "#TH2-CS2"
   ]
  },
  {
   "cell_type": "code",
   "execution_count": 1,
   "id": "a1febb97-339c-401f-a7f0-408a805da6ea",
   "metadata": {},
   "outputs": [
    {
     "name": "stdout",
     "output_type": "stream",
     "text": [
      "Hello World!\n"
     ]
    }
   ],
   "source": [
    "#W2A1\n",
    "print(\"Hello World!\")"
   ]
  },
  {
   "cell_type": "code",
   "execution_count": 9,
   "id": "11d296da-f10f-4d58-92b1-3d75530e7e24",
   "metadata": {},
   "outputs": [
    {
     "name": "stdout",
     "output_type": "stream",
     "text": [
      "xin chào hieu nha!\n"
     ]
    }
   ],
   "source": [
    "#W2A2\n",
    "name = input('tên bạn là:')\n",
    "print(\"xin chào\", name,'nha!')\n"
   ]
  },
  {
   "cell_type": "code",
   "execution_count": 3,
   "id": "c9f9770d-53f5-4a3b-8ada-ff3c71e687b4",
   "metadata": {},
   "outputs": [
    {
     "name": "stdout",
     "output_type": "stream",
     "text": [
      "2 + 4 = 6\n",
      "2 - 4 = -2\n",
      "2 * 4 = 8\n",
      "2 / 4 = 0.5\n",
      "2 / 4 = 0.5000\n",
      "2 // 4 = 0\n"
     ]
    }
   ],
   "source": [
    "#W2A3\n",
    "\"\"\"\n",
    "a, b = map(int,input().split('/')) #split là dấu / thay cho dấu cách\n",
    "print(f'{a} + {b} = {a+b}')\n",
    "\"\"\"\n",
    "a, b = map(int,input().split())\n",
    "#print(a, \"+\", b, \"=\", a+b)\n",
    "print(f'{a} + {b} = {a+b}') #thay cho dong tren\n",
    "print(f'{a} - {b} = {a-b}')\n",
    "print(f'{a} * {b} = {a*b}')\n",
    "print(f'{a} / {b} = {a/b}')\n",
    "print(f'{a} / {b} = {a/b:.4f}') #lay so chu so sau dau phay\n",
    "print(f'{a} // {b} = {a//b}') # // lay phan nguyen\n"
   ]
  },
  {
   "cell_type": "code",
   "execution_count": 4,
   "id": "8092cda5-b6e7-4469-9047-c9350acd6499",
   "metadata": {},
   "outputs": [
    {
     "name": "stdout",
     "output_type": "stream",
     "text": [
      "8.7\n"
     ]
    }
   ],
   "source": [
    "#W2A4 - tinh diem TB cua 6 dau diem\n",
    "a1,b1,c1,a2,b2,c2 = map(int, input().split())\n",
    "tb = (a1 + b1 + c1 +(a2 + b2) * 2 + c2 * 3)/10\n",
    "print(f'{tb:.1f}')\n"
   ]
  },
  {
   "cell_type": "code",
   "execution_count": 5,
   "id": "6f298c1f-3b28-45a3-ae0b-dea1e641e960",
   "metadata": {},
   "outputs": [
    {
     "name": "stdout",
     "output_type": "stream",
     "text": [
      "8\n"
     ]
    }
   ],
   "source": [
    "#W2A5\n",
    "a, b =  map(int,input().split())\n",
    "print(f'{a**b}')"
   ]
  },
  {
   "cell_type": "code",
   "execution_count": 6,
   "id": "f300deb3-c598-4c20-8131-922aaeeae6ba",
   "metadata": {},
   "outputs": [
    {
     "name": "stdout",
     "output_type": "stream",
     "text": [
      "P\n"
     ]
    }
   ],
   "source": [
    "#W2A6\n",
    "#a:97, A:32\n",
    "s = input()\n",
    "print(s.upper())\n",
    "#print(ord('a'))  #chuyen ve ma so cua a\n",
    "#print(chr(ord('a')-32)) #chuyen ma so ve ki tu\n"
   ]
  },
  {
   "cell_type": "code",
   "execution_count": 7,
   "id": "f1e87802-8ec3-419f-9685-48de3187dce3",
   "metadata": {},
   "outputs": [
    {
     "name": "stdout",
     "output_type": "stream",
     "text": [
      "512 512\n"
     ]
    }
   ],
   "source": [
    "#W2A7\n",
    "A = ((13**2)*3) + 5\n",
    "B = 13**2*3 + 5\n",
    "print(A,B)"
   ]
  },
  {
   "cell_type": "code",
   "execution_count": 8,
   "id": "62d06c3a-07ad-4283-96a7-f191ab4ced44",
   "metadata": {},
   "outputs": [
    {
     "name": "stdout",
     "output_type": "stream",
     "text": [
      "44.06\n"
     ]
    }
   ],
   "source": [
    "#W2A8\n",
    "C = float(input())\n",
    "F = (9/5)*C +32\n",
    "print(f'{F:.2f}')"
   ]
  },
  {
   "cell_type": "code",
   "execution_count": null,
   "id": "510ced3f-eeca-4197-bd1c-b71c3205afea",
   "metadata": {},
   "outputs": [
    {
     "name": "stdout",
     "output_type": "stream",
     "text": [
      "tiền anh tùng phải trả là: 56.20\n"
     ]
    }
   ],
   "source": [
    "#W2A9\n",
    "x=int(input('giá đồng hồ:'))\n",
    "t=10+(0.3*x+0.1*x)+x\n",
    "print('tiền anh tùng phải trả là:',f'{t:.2f}')"
   ]
  },
  {
   "cell_type": "code",
   "execution_count": 18,
   "id": "34cd6ed1",
   "metadata": {},
   "outputs": [
    {
     "name": "stdout",
     "output_type": "stream",
     "text": [
      "xin chào troàn, trung và trang\n"
     ]
    }
   ],
   "source": [
    "#W2A10\n",
    "a,b,c=map(str,input().split())\n",
    "print(f'xin chào {a}, {b} và {c}')"
   ]
  },
  {
   "cell_type": "code",
   "execution_count": 19,
   "id": "1a9927b4",
   "metadata": {},
   "outputs": [
    {
     "name": "stdout",
     "output_type": "stream",
     "text": [
      "45000\n"
     ]
    }
   ],
   "source": [
    "#W2A11\n",
    "h,p=map(int,input().split(':'))\n",
    "print((h*60+p)*60)"
   ]
  },
  {
   "cell_type": "code",
   "execution_count": 21,
   "id": "950c74b1",
   "metadata": {},
   "outputs": [
    {
     "name": "stdout",
     "output_type": "stream",
     "text": [
      "số miếng dán cần là: 216\n"
     ]
    }
   ],
   "source": [
    "#W2A12\n",
    "n=int(input())\n",
    "print('số miếng dán cần là:',(n**2)*6)"
   ]
  },
  {
   "cell_type": "code",
   "execution_count": null,
   "id": "674463f6",
   "metadata": {},
   "outputs": [
    {
     "name": "stdout",
     "output_type": "stream",
     "text": [
      "chữ số ở hàng đơn vị là: 2\n"
     ]
    }
   ],
   "source": [
    "#W2A13\n",
    "a,b=map(int,input().split())\n",
    "print('chữ số ở hàng đơn vị là:',(a*b)%10)"
   ]
  },
  {
   "cell_type": "code",
   "execution_count": null,
   "id": "4755110b",
   "metadata": {},
   "outputs": [
    {
     "name": "stdout",
     "output_type": "stream",
     "text": [
      "10 5\n"
     ]
    }
   ],
   "source": [
    "#W2A14\n",
    "a,b=map(int,input().split())\n",
    "a,b=b,a\n",
    "print(a,b)"
   ]
  },
  {
   "cell_type": "code",
   "execution_count": 29,
   "id": "6d19ed27",
   "metadata": {},
   "outputs": [
    {
     "name": "stdout",
     "output_type": "stream",
     "text": [
      "181\n"
     ]
    }
   ],
   "source": [
    "#W2A15\n",
    "n=int(input())\n",
    "print(6*n*(n-1)+1)"
   ]
  },
  {
   "cell_type": "code",
   "execution_count": 30,
   "id": "6c0b509c",
   "metadata": {},
   "outputs": [
    {
     "name": "stdout",
     "output_type": "stream",
     "text": [
      "SPRING\n",
      "SUMMER\n",
      "AUTUMN\n",
      "WINTER\n"
     ]
    }
   ],
   "source": [
    "#W2A16\n",
    "'''\n",
    "print(\"SPRING\")\n",
    "print(\"SUMMER\")\n",
    "print(\"AUTUMN\")\n",
    "print(\"WINTER\")\n",
    "'''\n",
    "print(\"SPRING\\nSUMMER\\nAUTUMN\\nWINTER\")\n"
   ]
  },
  {
   "cell_type": "code",
   "execution_count": null,
   "id": "6066cb7e",
   "metadata": {},
   "outputs": [
    {
     "name": "stdout",
     "output_type": "stream",
     "text": [
      "*\n",
      "**\n",
      "***\n"
     ]
    }
   ],
   "source": [
    "#W2A17\n",
    "s='*'\n",
    "for i in range(3):\n",
    "    print(s)\n",
    "    s+='*'"
   ]
  },
  {
   "cell_type": "code",
   "execution_count": 34,
   "id": "1153f9e7",
   "metadata": {},
   "outputs": [
    {
     "name": "stdout",
     "output_type": "stream",
     "text": [
      "### ##   ### ###\n",
      " #  # #   #   # \n",
      " #  #  #  #   # \n",
      " #  # #   #   # \n",
      " #  ##    #   # \n"
     ]
    }
   ],
   "source": [
    "#W2A18\n",
    "print(\"### ##   ### ###\")\n",
    "print(\" #  # #   #   # \")\n",
    "print(\" #  #  #  #   # \")\n",
    "print(\" #  # #   #   # \")\n",
    "print(\" #  ##    #   # \")"
   ]
  },
  {
   "cell_type": "code",
   "execution_count": 35,
   "id": "f6415091",
   "metadata": {},
   "outputs": [
    {
     "name": "stdout",
     "output_type": "stream",
     "text": [
      "Monday\n",
      "Tuesday\n",
      "Wednesday\n",
      "Thursday\n",
      "Friday\n",
      "Saturday\n",
      "Sunday\n"
     ]
    }
   ],
   "source": [
    "#W2A19\n",
    "print('Monday')\n",
    "print('Tuesday')\n",
    "print('Wednesday')\n",
    "print('Thursday')\n",
    "print('Friday')\n",
    "print('Saturday')\n",
    "print('Sunday')"
   ]
  },
  {
   "cell_type": "code",
   "execution_count": null,
   "id": "65a54a7c",
   "metadata": {},
   "outputs": [
    {
     "name": "stdout",
     "output_type": "stream",
     "text": [
      "January\n",
      "February\n",
      "March\n",
      "April\n",
      "May\n",
      "June\n",
      "July\n",
      "August\n",
      "September\n",
      "October\n",
      "November\n",
      "December\n"
     ]
    }
   ],
   "source": [
    "#W2A20\n",
    "print(\"January\")\n",
    "print(\"February\")\n",
    "print(\"March\")\n",
    "print(\"April\")\n",
    "print(\"May\")\n",
    "print(\"June\")\n",
    "print(\"July\")\n",
    "print(\"August\")\n",
    "print(\"September\")\n",
    "print(\"October\")\n",
    "print(\"November\")\n",
    "print(\"December\")"
   ]
  },
  {
   "cell_type": "code",
   "execution_count": 1,
   "id": "954cd120",
   "metadata": {},
   "outputs": [
    {
     "name": "stdout",
     "output_type": "stream",
     "text": [
      "Hello World!\n",
      "Hello World!\n",
      "Hello World!\n",
      "Hello World!\n",
      "Hello World!\n",
      "Hello World!\n",
      "Hello World!\n",
      "Hello World!\n",
      "Hello World!\n",
      "Hello World!\n"
     ]
    }
   ],
   "source": [
    "#W2A21\n",
    "for i in range (10):\n",
    "    print(\"Hello World!\")\n"
   ]
  }
 ],
 "metadata": {
  "kernelspec": {
   "display_name": "Python 3",
   "language": "python",
   "name": "python3"
  },
  "language_info": {
   "codemirror_mode": {
    "name": "ipython",
    "version": 3
   },
   "file_extension": ".py",
   "mimetype": "text/x-python",
   "name": "python",
   "nbconvert_exporter": "python",
   "pygments_lexer": "ipython3",
   "version": "3.13.7"
  }
 },
 "nbformat": 4,
 "nbformat_minor": 5
}
