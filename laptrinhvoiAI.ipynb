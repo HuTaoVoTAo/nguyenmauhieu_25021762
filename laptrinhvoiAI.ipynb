{
 "cells": [
  {
   "cell_type": "markdown",
   "id": "a7e1b80b",
   "metadata": {},
   "source": [
    "#TH1-CS2"
   ]
  },
  {
   "cell_type": "code",
   "execution_count": 1,
   "id": "734d7f93-9b86-4aac-a2f6-8b4143cede5c",
   "metadata": {},
   "outputs": [
    {
     "name": "stdout",
     "output_type": "stream",
     "text": [
      "2\n"
     ]
    }
   ],
   "source": [
    "#W1A1\n",
    "a = 7        # gán biến a bằng 7\n",
    "b = 5        # gán biến b bằng 5\n",
    "c = a - b    # tính hiệu: 7 - 5 = 2\n",
    "print(c)     # in ra giá trị của c\n"
   ]
  },
  {
   "cell_type": "code",
   "execution_count": 3,
   "id": "6c1b99bd-907f-42dc-b15f-95846564837d",
   "metadata": {},
   "outputs": [
    {
     "name": "stdout",
     "output_type": "stream",
     "text": [
      "Thành phố Hà Nội - Năm 2025\n"
     ]
    }
   ],
   "source": [
    "#W1A2\n",
    "city = \"Hà Nội\"              # gán biến city là chuỗi \"Hà Nội\"\n",
    "year = 2025                  # gán biến year là số 2025\n",
    "print(\"Thành phố\", city, \"- Năm\", year)\n",
    "\n"
   ]
  },
  {
   "cell_type": "code",
   "execution_count": 4,
   "id": "48cb4356-daeb-4366-8798-175b2685086d",
   "metadata": {},
   "outputs": [
    {
     "name": "stdout",
     "output_type": "stream",
     "text": [
      "10\n"
     ]
    }
   ],
   "source": [
    "#W1A3\n",
    "n = 4       # gán biến n = 4\n",
    "t = 0       # khởi tạo tổng t = 0\n",
    "for i in range(1, n+1):   # vòng lặp i chạy từ 1 đến 4 (vì n+1 = 5)\n",
    "    t += i                # cộng dồn giá trị i vào t\n",
    "print(t)    # in ra tổng cuối cùng\n"
   ]
  },
  {
   "cell_type": "code",
   "execution_count": 5,
   "id": "d08e8140-30fb-498d-89b3-ccb61be24563",
   "metadata": {},
   "outputs": [
    {
     "name": "stdout",
     "output_type": "stream",
     "text": [
      "1 là số lẻ\n",
      "2 là số chẵn\n",
      "3 là số lẻ\n",
      "4 là số chẵn\n"
     ]
    }
   ],
   "source": [
    "#W1A4\n",
    "numbers = [1, 2, 3, 4]       # tạo danh sách gồm các số 1, 2, 3, 4\n",
    "for x in numbers:            # duyệt từng phần tử x trong danh sách\n",
    "    if x % 2 == 0:           # nếu x chia hết cho 2 (số chẵn)\n",
    "        print(x, \"là số chẵn\")\n",
    "    else:                    # ngược lại (số lẻ)\n",
    "        print(x, \"là số lẻ\")"
   ]
  },
  {
   "cell_type": "code",
   "execution_count": 6,
   "id": "7941f60a-14f4-4f0f-b074-5e838f79a9a6",
   "metadata": {},
   "outputs": [
    {
     "name": "stdout",
     "output_type": "stream",
     "text": [
      "Số phần tử trong danh sách là: 4\n"
     ]
    }
   ],
   "source": [
    "#W1A5\n",
    "animals = [\"cat\", \"dog\", \"cat\", \"bird\"]   # danh sách có 4 phần tử\n",
    "count = 0                                # khởi tạo biến đếm\n",
    "for a in animals:                        # duyệt từng phần tử trong animals\n",
    "    count += 1                           # mỗi lần lặp, tăng count lên 1\n",
    "\n",
    "print(\"Số phần tử trong danh sách là:\", count)"
   ]
  },
  {
   "cell_type": "code",
   "execution_count": null,
   "id": "2708bd0d-f2f0-4797-b270-4ae7d6fe44f0",
   "metadata": {},
   "outputs": [],
   "source": [
    "#W1A6\n",
    "=== AI Prediction System ===\n",
    "1) Sentiment analysis\n",
    "2) Weather forecast\n",
    "3) Exit\n",
    "Please choose an option:\n"
   ]
  },
  {
   "cell_type": "code",
   "execution_count": null,
   "id": "5300a2ad-50f7-4545-b794-b18a5d76c1d8",
   "metadata": {},
   "outputs": [],
   "source": [
    "#W1A7\n",
    "num = int(input(\"Nhập số: \")) # lỗi đã sửa\n",
    "if num % 2 == 0:\n",
    "    print(\"Số chẵn\")\n",
    "else:\n",
    "    print(\"Số lẻ\")"
   ]
  },
  {
   "cell_type": "code",
   "execution_count": 11,
   "id": "8e23ddbd-0688-482e-ac2a-68bc14255ef9",
   "metadata": {},
   "outputs": [
    {
     "name": "stdout",
     "output_type": "stream",
     "text": [
      "AI đang học lần 1\n",
      "AI đang học lần 2\n",
      "AI đang học lần 3\n",
      "Huấn luyện xong!\n"
     ]
    },
    {
     "data": {
      "text/plain": [
       "'AI đang học lần 1\\nAI đang học lần 2\\nAI đang học lần 3\\nHuấn luyện xong!'"
      ]
     },
     "execution_count": 11,
     "metadata": {},
     "output_type": "execute_result"
    }
   ],
   "source": [
    "#W1A8\n",
    "for i in range(3): #tạo dãy [0, 1, 2].\n",
    "    print(\"AI đang học lần\", i + 1) #Mỗi vòng lặp, i + 1 → 1, 2, 3.\n",
    "print(\"Huấn luyện xong!\") \n",
    "\"\"\"AI đang học lần 1\n",
    "AI đang học lần 2\n",
    "AI đang học lần 3\n",
    "Huấn luyện xong!\"\"\"\n"
   ]
  },
  {
   "cell_type": "code",
   "execution_count": 10,
   "id": "79e6e93b-9b40-4e7f-a5b8-db6929117a1b",
   "metadata": {},
   "outputs": [
    {
     "name": "stdout",
     "output_type": "stream",
     "text": [
      "Dự đoán con vật: cat\n",
      "Dự đoán con vật: dog\n",
      "Dự đoán con vật: fish\n"
     ]
    }
   ],
   "source": [
    "#W1A9 \n",
    "for x in [\"cat\", \"dog\", \"fish\"]:\n",
    "    print(\"Dự đoán con vật:\", x) #vòng lặp duyệt qua danh sách, mỗi lần in một con vật\n"
   ]
  },
  {
   "cell_type": "code",
   "execution_count": 9,
   "id": "7d6345bd-f71d-4e7f-9299-4af0a3fdf849",
   "metadata": {},
   "outputs": [
    {
     "ename": "SyntaxError",
     "evalue": "unmatched ')' (1122598093.py, line 5)",
     "output_type": "error",
     "traceback": [
      "  \u001b[36mCell\u001b[39m\u001b[36m \u001b[39m\u001b[32mIn[9]\u001b[39m\u001b[32m, line 5\u001b[39m\n\u001b[31m    \u001b[39m\u001b[31mprint(\"2) Weather forecast\"))             #Sai: thừa 1 dấu ngoặc )\u001b[39m\n                                ^\n\u001b[31mSyntaxError\u001b[39m\u001b[31m:\u001b[39m unmatched ')'\n"
     ]
    }
   ],
   "source": [
    "#W1A10 \n",
    "# Simple menu\n",
    "print \"=== AI Prediction System ===\"       #Sai: Python 3 không dùng print kiểu này\n",
    "print(\"1) Sentiment analysis\")            #đúng\n",
    "print(\"2) Weather forecast\"))             #Sai: thừa 1 dấu ngoặc )\n",
    "print('3) Exit'                           #Sai: thiếu dấu ngoặc đóng )\n",
    "print(\"Please choose an option:\")         #đúng\n"
   ]
  }
 ],
 "metadata": {
  "kernelspec": {
   "display_name": "Python 3 (ipykernel)",
   "language": "python",
   "name": "python3"
  },
  "language_info": {
   "codemirror_mode": {
    "name": "ipython",
    "version": 3
   },
   "file_extension": ".py",
   "mimetype": "text/x-python",
   "name": "python",
   "nbconvert_exporter": "python",
   "pygments_lexer": "ipython3",
   "version": "3.11.3"
  }
 },
 "nbformat": 4,
 "nbformat_minor": 5
}
