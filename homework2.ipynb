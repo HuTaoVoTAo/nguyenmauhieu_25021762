{
 "cells": [
  {
   "cell_type": "code",
   "execution_count": 12,
   "id": "d9be25e0",
   "metadata": {},
   "outputs": [
    {
     "name": "stdout",
     "output_type": "stream",
     "text": [
      "chu vi: 22\n",
      "dien tich: 30\n"
     ]
    }
   ],
   "source": [
    "#bai1\n",
    "a,b=map(int,input().split())\n",
    "print('chu vi:',(a+b)*2)\n",
    "print('dien tich:',a*b)"
   ]
  },
  {
   "cell_type": "code",
   "execution_count": null,
   "id": "22f0227f",
   "metadata": {},
   "outputs": [
    {
     "name": "stdout",
     "output_type": "stream",
     "text": [
      "dien tich: 78.5\n",
      "chu vi:31.400000000000002\n"
     ]
    }
   ],
   "source": [
    "#bai2\n",
    "r=int(input())\n",
    "print('dien tich:',3.14*r*r)\n",
    "#print(r)\n",
    "r=int(r)\n",
    "print(f'chu vi:{3.14*2*r:.2f}')"
   ]
  },
  {
   "cell_type": "code",
   "execution_count": 18,
   "id": "ca7526e0",
   "metadata": {},
   "outputs": [
    {
     "name": "stdout",
     "output_type": "stream",
     "text": [
      "tam giac vuong\n",
      "chu vi:12.0\n",
      "dien tich:6.0\n"
     ]
    }
   ],
   "source": [
    "#bai3\n",
    "a,b,c=map(int,input('ba canh cua tam giac la:').split())\n",
    "if a+b>c and a+c>b and b+c>a:\n",
    "    if a==b and b==c:\n",
    "        print('tam giac deu')\n",
    "    elif a==b or b==c or a==c:\n",
    "        print('tam giac can')\n",
    "    elif a*a+b*b==c*c or a*a+c*c==b*b or b*b+c*c==a*a:\n",
    "        print('tam giac vuong')\n",
    "    p=(a+b+c)/2\n",
    "    s=(p*(p-a)*(p-b)*(p-c))**0.5\n",
    "    print(f'chu vi:{p*2}')\n",
    "    print(f'dien tich:{s}')"
   ]
  },
  {
   "cell_type": "code",
   "execution_count": 19,
   "id": "2b5ba4c8",
   "metadata": {},
   "outputs": [
    {
     "name": "stdout",
     "output_type": "stream",
     "text": [
      "x=-1.3333333333333333\n"
     ]
    }
   ],
   "source": [
    "#bai4\n",
    "a,b=map(int,input().split())\n",
    "x=-b/a\n",
    "print(f'x={x}')"
   ]
  },
  {
   "cell_type": "code",
   "execution_count": 21,
   "id": "6092f144",
   "metadata": {},
   "outputs": [
    {
     "name": "stdout",
     "output_type": "stream",
     "text": [
      "x1=2.0,x2=3.0\n"
     ]
    }
   ],
   "source": [
    "#bai5\n",
    "a,b,c=map(int,input().split())\n",
    "delta=b*b-4*a*c\n",
    "if delta<0:\n",
    "    print('vo nghiem')\n",
    "elif delta==0:\n",
    "    x=-b/(2*a)\n",
    "    print(f'co nghiem kep x1=x2={x}')\n",
    "else:\n",
    "    x1=(-b-delta**0.5)/(2*a)\n",
    "    x2=(-b+delta**0.5)/(2*a)\n",
    "    print(f'x1={x1},x2={x2}')"
   ]
  },
  {
   "cell_type": "code",
   "execution_count": null,
   "id": "e14174d6",
   "metadata": {},
   "outputs": [
    {
     "name": "stdout",
     "output_type": "stream",
     "text": [
      "7\n"
     ]
    }
   ],
   "source": [
    "#bai6\n",
    "a,b,c,d=map(int,input().split())\n",
    "print(max(a,b,c,d))"
   ]
  },
  {
   "cell_type": "code",
   "execution_count": null,
   "id": "773000fc",
   "metadata": {},
   "outputs": [
    {
     "name": "stdout",
     "output_type": "stream",
     "text": [
      "1\n"
     ]
    }
   ],
   "source": [
    "#bai7\n",
    "a,b,c,d=map(int,input().split())\n",
    "print(min(a,b,c,d))"
   ]
  },
  {
   "cell_type": "code",
   "execution_count": 26,
   "id": "30e5cb84",
   "metadata": {},
   "outputs": [
    {
     "name": "stdout",
     "output_type": "stream",
     "text": [
      "x=-1.0,y=2.0\n"
     ]
    }
   ],
   "source": [
    "#bai8\n",
    "a,b,m=map(int,input().split())\n",
    "c,d,n=map(int,input().split())\n",
    "t=a\n",
    "a*=c\n",
    "b*=c\n",
    "m*=c\n",
    "c*=t\n",
    "d*=t\n",
    "n*=t\n",
    "if b==d and m==n:\n",
    "    print('phuong trinh vo so nghiem')\n",
    "elif b==d and m!=n:\n",
    "    print('phuong trinh vo nghiem')\n",
    "else:\n",
    "    y=(m-n)/(b-d)\n",
    "    x=(m-b*y)/a\n",
    "    print(f'x={x},y={y}')"
   ]
  },
  {
   "cell_type": "code",
   "execution_count": 28,
   "id": "107d8f6d",
   "metadata": {},
   "outputs": [
    {
     "name": "stdout",
     "output_type": "stream",
     "text": [
      "2:46:40\n"
     ]
    }
   ],
   "source": [
    "#bai9\n",
    "x=int(input())\n",
    "h=x//3600\n",
    "x-=h*3600\n",
    "m=x//60\n",
    "s=x-m*60\n",
    "print(f'{h}:{m}:{s}')\n"
   ]
  },
  {
   "cell_type": "code",
   "execution_count": 30,
   "id": "653a8deb",
   "metadata": {},
   "outputs": [
    {
     "name": "stdout",
     "output_type": "stream",
     "text": [
      "diem A khong thuoc duong tron\n"
     ]
    }
   ],
   "source": [
    "#bai10\n",
    "x0,y0,r=map(int,input().split())\n",
    "x,y=map(int,input().split())\n",
    "if ((x-x0)**2+(y-y0)**2)**0.5==r:\n",
    "    print('diem A thuoc duong tron')\n",
    "else:\n",
    "    print('diem A khong thuoc duong tron')"
   ]
  },
  {
   "cell_type": "code",
   "execution_count": 32,
   "id": "4509fb13",
   "metadata": {},
   "outputs": [
    {
     "name": "stdout",
     "output_type": "stream",
     "text": [
      "946.8516393537748\n"
     ]
    }
   ],
   "source": [
    "#bai11\n",
    "x,y=map(float,input().split())\n",
    "print(x**y)"
   ]
  }
 ],
 "metadata": {
  "kernelspec": {
   "display_name": "Python 3",
   "language": "python",
   "name": "python3"
  },
  "language_info": {
   "codemirror_mode": {
    "name": "ipython",
    "version": 3
   },
   "file_extension": ".py",
   "mimetype": "text/x-python",
   "name": "python",
   "nbconvert_exporter": "python",
   "pygments_lexer": "ipython3",
   "version": "3.13.7"
  }
 },
 "nbformat": 4,
 "nbformat_minor": 5
}
