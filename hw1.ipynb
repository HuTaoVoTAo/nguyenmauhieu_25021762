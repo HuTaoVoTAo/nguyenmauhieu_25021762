{
 "cells": [
  {
   "cell_type": "markdown",
   "id": "d8f9e5fc",
   "metadata": {},
   "source": [
    "#homework1"
   ]
  },
  {
   "cell_type": "code",
   "execution_count": 1,
   "id": "2588a354",
   "metadata": {},
   "outputs": [
    {
     "name": "stdout",
     "output_type": "stream",
     "text": [
      "6\n"
     ]
    }
   ],
   "source": [
    "n=int(input())\n",
    "print(2*n)"
   ]
  },
  {
   "cell_type": "code",
   "execution_count": 4,
   "id": "cda3693e",
   "metadata": {},
   "outputs": [
    {
     "name": "stdout",
     "output_type": "stream",
     "text": [
      "7.93\n"
     ]
    }
   ],
   "source": [
    "a,b=map(int,input().split())\n",
    "r=min(a,b)/2\n",
    "print(f'{a*b-(r**2)*3.14:.2f}')"
   ]
  },
  {
   "cell_type": "code",
   "execution_count": null,
   "id": "80a99986",
   "metadata": {},
   "outputs": [
    {
     "name": "stdout",
     "output_type": "stream",
     "text": [
      "z\n"
     ]
    }
   ],
   "source": [
    "c=input()\n",
    "if ord(c)<97:\n",
    "    c=chr(ord(c)+32)\n",
    "else:\n",
    "    c=chr(ord(c)-32)\n",
    "print(c)"
   ]
  },
  {
   "cell_type": "code",
   "execution_count": null,
   "id": "f8201224",
   "metadata": {},
   "outputs": [
    {
     "name": "stdout",
     "output_type": "stream",
     "text": [
      "97 122 65 90\n",
      "J la ki tu alphabet\n"
     ]
    }
   ],
   "source": [
    "c=input()\n",
    "#print(ord('a'),ord('z'),ord('A'),ord('Z'))\n",
    "if ord(c)>=97 and ord(c)<=122 or ord(c)>=65 and ord(c)<=90:\n",
    "    print(f'{c} la ki tu alphabet')\n",
    "else :\n",
    "    print(f'{c} khong phai la ki tu alphabet')"
   ]
  },
  {
   "cell_type": "code",
   "execution_count": null,
   "id": "47248193",
   "metadata": {},
   "outputs": [
    {
     "name": "stdout",
     "output_type": "stream",
     "text": [
      "a\n"
     ]
    }
   ],
   "source": [
    "c=input()\n",
    "if(c=='A'):\n",
    "    print('dacbiet')\n",
    "else:\n",
    "    print(chr(ord(c)+31))"
   ]
  },
  {
   "cell_type": "code",
   "execution_count": 20,
   "id": "3be7b1ff",
   "metadata": {},
   "outputs": [
    {
     "name": "stdout",
     "output_type": "stream",
     "text": [
      "6.0\n"
     ]
    }
   ],
   "source": [
    "a,b,c=map(int,input().split())\n",
    "if a+b>c and a+c>b and b+c>a:\n",
    "    p=(a+b+c)/2\n",
    "    s=(p*(p-a)*(p-b)*(p-c))**0.5\n",
    "    print(f'{s:.1f}')\n",
    "else:\n",
    "    print('khong phai 3 canh tam giac')"
   ]
  },
  {
   "cell_type": "code",
   "execution_count": 26,
   "id": "e380dd2e",
   "metadata": {},
   "outputs": [
    {
     "name": "stdout",
     "output_type": "stream",
     "text": [
      "s d\n"
     ]
    }
   ],
   "source": [
    "s=input()\n",
    "t=0\n",
    "for i in s:\n",
    "    t+=1\n",
    "    if t==5:\n",
    "        print(i,end=' ')\n",
    "    elif t==9:\n",
    "        print(i)\n",
    "        break"
   ]
  },
  {
   "cell_type": "code",
   "execution_count": 45,
   "id": "aeea58a1",
   "metadata": {},
   "outputs": [
    {
     "name": "stdout",
     "output_type": "stream",
     "text": [
      "ho vo ten: ds\n",
      "tien phai tra la: 86738601975732\n"
     ]
    }
   ],
   "source": [
    "def tinhtiendien(z=int):\n",
    "    tien=0\n",
    "    if z-50<0:\n",
    "        return tien+z*1984\n",
    "    tien+=50*1984\n",
    "    if z-100<0:\n",
    "        return tien+(z-50)*2050\n",
    "    tien+=50*2050\n",
    "    if z-200<0:\n",
    "        return tien+(z-100)*2380\n",
    "    tien+=100*2380\n",
    "    if z-300<0:\n",
    "        return tien+(z-200)*2998\n",
    "    tien+=100*2998\n",
    "    if z-400<0:\n",
    "        return tien+(z-300)*3350\n",
    "    tien+=100*3350\n",
    "    return tien+(z-400)*3460\n",
    "\n",
    "\n",
    "name=input('Ten chu ho:')\n",
    "tb=int(input('chi so thang truoc:'))\n",
    "ta=int(input('chi so thang nay:'))\n",
    "print(f'ho vo ten: {name}')\n",
    "print(f'tien phai tra la: {tinhtiendien(ta-tb)*1.08:.0f}')\n"
   ]
  },
  {
   "cell_type": "markdown",
   "id": "2950aaf0",
   "metadata": {},
   "source": [
    "#BONUS"
   ]
  },
  {
   "cell_type": "code",
   "execution_count": null,
   "id": "f3387cfb",
   "metadata": {},
   "outputs": [
    {
     "name": "stdout",
     "output_type": "stream",
     "text": [
      "5 la so le\n"
     ]
    }
   ],
   "source": [
    "#1\n",
    "a=int(input())\n",
    "if a%2==0:\n",
    "    print(f'{a} la so chan')\n",
    "else:\n",
    "    print(f'{a} la so le')"
   ]
  },
  {
   "cell_type": "code",
   "execution_count": null,
   "id": "b7cf6cea",
   "metadata": {},
   "outputs": [
    {
     "name": "stdout",
     "output_type": "stream",
     "text": [
      "true\n"
     ]
    }
   ],
   "source": [
    "#2\n",
    "a=int(input())\n",
    "if a%100000==0:\n",
    "    print('true')\n",
    "else:\n",
    "    print('false')"
   ]
  },
  {
   "cell_type": "code",
   "execution_count": null,
   "id": "fc350294",
   "metadata": {},
   "outputs": [
    {
     "name": "stdout",
     "output_type": "stream",
     "text": [
      "False\n"
     ]
    }
   ],
   "source": [
    "#3\n",
    "a=int(input())\n",
    "if a%3==0 and a%5==0:\n",
    "    print('True')\n",
    "else:\n",
    "    print('False')"
   ]
  },
  {
   "cell_type": "code",
   "execution_count": null,
   "id": "d030ade3",
   "metadata": {},
   "outputs": [],
   "source": [
    "#4\n",
    "yob=int(input())\n",
    "age=2025-yob\n",
    "if age<18:\n",
    "    print('ban chua du tuoi bo phieu')\n",
    "else:\n",
    "    print('ban da du tuoi bo phieu')"
   ]
  },
  {
   "cell_type": "code",
   "execution_count": null,
   "id": "280f5206",
   "metadata": {},
   "outputs": [
    {
     "name": "stdout",
     "output_type": "stream",
     "text": [
      "3\n"
     ]
    }
   ],
   "source": [
    "#5\n",
    "a,b=map(int,input().split())\n",
    "if a==b:\n",
    "    print('a bang b')\n",
    "else:\n",
    "    print(max(a,b))"
   ]
  },
  {
   "cell_type": "code",
   "execution_count": null,
   "id": "3303d84c",
   "metadata": {},
   "outputs": [
    {
     "name": "stdout",
     "output_type": "stream",
     "text": [
      "5 la chu so\n"
     ]
    }
   ],
   "source": [
    "#6\n",
    "c=input()\n",
    "if ord(c)>=ord('0') and ord(c)<=ord('9'):\n",
    "    print(f'{c} la chu so')\n",
    "else:\n",
    "    print(f'{c} la chu cai')"
   ]
  },
  {
   "cell_type": "code",
   "execution_count": 2,
   "id": "b060d0f7",
   "metadata": {},
   "outputs": [
    {
     "name": "stdout",
     "output_type": "stream",
     "text": [
      "yeu\n"
     ]
    }
   ],
   "source": [
    "#7\n",
    "a=int(input())\n",
    "if a>=8:\n",
    "    print(\"gioi\")\n",
    "elif a>=6.5:\n",
    "    print(\"kha\")\n",
    "elif a>=5:\n",
    "    print(\"trung binh\")\n",
    "else:\n",
    "    print(\"yeu\")"
   ]
  },
  {
   "cell_type": "code",
   "execution_count": null,
   "id": "ae00c24d",
   "metadata": {},
   "outputs": [
    {
     "name": "stdout",
     "output_type": "stream",
     "text": [
      "2020 la nam nhuan\n"
     ]
    }
   ],
   "source": [
    "#8\n",
    "a=int(input())\n",
    "if a%4==0 or a%400==0 and a%100!=0:\n",
    "    print(f'{a} la nam nhuan')\n",
    "else:\n",
    "    print(f'{a} khong phai nam nhuan')"
   ]
  },
  {
   "cell_type": "code",
   "execution_count": null,
   "id": "15b74d1c",
   "metadata": {},
   "outputs": [
    {
     "name": "stdout",
     "output_type": "stream",
     "text": [
      "sau\n"
     ]
    }
   ],
   "source": [
    "#9\n",
    "a=int(input())\n",
    "match a:\n",
    "    case 0:\n",
    "        print('khong')\n",
    "    case 1:\n",
    "        print('mot')\n",
    "    case 2:\n",
    "        print('hai')\n",
    "    case 3:\n",
    "        print('ba')\n",
    "    case 4:\n",
    "        print('bon')\n",
    "    case 5:\n",
    "        print('nam')\n",
    "    case 6:\n",
    "        print('sau')\n",
    "    case 7:\n",
    "        print('bay')\n",
    "    case 8:\n",
    "        print('tam')\n",
    "    case _:\n",
    "        print('chin')"
   ]
  },
  {
   "cell_type": "code",
   "execution_count": 6,
   "id": "65e15373",
   "metadata": {},
   "outputs": [
    {
     "name": "stdout",
     "output_type": "stream",
     "text": [
      "qua mon\n"
     ]
    }
   ],
   "source": [
    "#10\n",
    "a=int(input())\n",
    "if a<=4:\n",
    "    print('thi lai')\n",
    "else:\n",
    "   print('qua mon') "
   ]
  },
  {
   "cell_type": "code",
   "execution_count": null,
   "id": "a2600637",
   "metadata": {},
   "outputs": [
    {
     "name": "stdout",
     "output_type": "stream",
     "text": [
      "22\n",
      "ban da tren 18\n"
     ]
    }
   ],
   "source": [
    "#11\n",
    "yof=int(input())\n",
    "t=2025-yof\n",
    "print(t)\n",
    "if t<18:\n",
    "    print('ban chua 18')\n",
    "else:\n",
    "    print('ban da tren 18')"
   ]
  }
 ],
 "metadata": {
  "kernelspec": {
   "display_name": "Python 3",
   "language": "python",
   "name": "python3"
  },
  "language_info": {
   "codemirror_mode": {
    "name": "ipython",
    "version": 3
   },
   "file_extension": ".py",
   "mimetype": "text/x-python",
   "name": "python",
   "nbconvert_exporter": "python",
   "pygments_lexer": "ipython3",
   "version": "3.13.7"
  }
 },
 "nbformat": 4,
 "nbformat_minor": 5
}
