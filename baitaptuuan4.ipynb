{
 "cells": [
  {
   "cell_type": "code",
   "execution_count": 1,
   "id": "6fa23201",
   "metadata": {},
   "outputs": [
    {
     "name": "stdout",
     "output_type": "stream",
     "text": [
      "15\n"
     ]
    }
   ],
   "source": [
    "#W4A1\n",
    "n=int(input())\n",
    "sum=0\n",
    "for i in range(1,n+1):\n",
    "    sum+=i\n",
    "print(sum)"
   ]
  },
  {
   "cell_type": "code",
   "execution_count": null,
   "id": "a2d42e68",
   "metadata": {},
   "outputs": [
    {
     "name": "stdout",
     "output_type": "stream",
     "text": [
      "la so nguyen to\n"
     ]
    }
   ],
   "source": [
    "#W4A2\n",
    "#kiem tra so nguyen to\n",
    "def snt(n):\n",
    "    if n<2:\n",
    "        return False\n",
    "    for i in range(2,int(n**0.5)+1):\n",
    "        if n%i==0:\n",
    "            return False\n",
    "    return True\n",
    "n=-1\n",
    "while n<0:\n",
    "    n=int(input())\n",
    "    if snt(n):\n",
    "        print('la so nguyen to')"
   ]
  },
  {
   "cell_type": "code",
   "execution_count": 3,
   "id": "cd6c614b",
   "metadata": {},
   "outputs": [
    {
     "name": "stdout",
     "output_type": "stream",
     "text": [
      "24\n"
     ]
    }
   ],
   "source": [
    "#W4A3\n",
    "n=int(input())\n",
    "num=1\n",
    "for i in range(1,n+1):\n",
    "    num*=i\n",
    "print(num)"
   ]
  },
  {
   "cell_type": "code",
   "execution_count": 18,
   "id": "b91c8117",
   "metadata": {},
   "outputs": [
    {
     "name": "stdout",
     "output_type": "stream",
     "text": [
      "1\n"
     ]
    }
   ],
   "source": [
    "#W4A4\n",
    "n=int(input())\n",
    "\n",
    "if n<0:\n",
    "    n*=-1\n",
    "ans=0\n",
    "while n>0:\n",
    "    n//=10\n",
    "    ans+=1\n",
    "if n==0:\n",
    "    print(1)\n",
    "else:\n",
    "    print(ans)"
   ]
  },
  {
   "cell_type": "code",
   "execution_count": 7,
   "id": "12332a59",
   "metadata": {},
   "outputs": [
    {
     "name": "stdout",
     "output_type": "stream",
     "text": [
      "I've found the meaning of life\n"
     ]
    }
   ],
   "source": [
    "#W4A5\n",
    "n=int(input())\n",
    "lst=list(map(int,input().split()))\n",
    "#while n>0:\n",
    "#    t=int(input())\n",
    "#    lst.append(t)\n",
    "#    n-=1\n",
    "if 42 in lst:\n",
    "    print(f\"I've found the meaning of life\")\n",
    "else:\n",
    "    print(f\"it's a joke\")\n"
   ]
  },
  {
   "cell_type": "code",
   "execution_count": 9,
   "id": "b1fc5aea",
   "metadata": {},
   "outputs": [
    {
     "name": "stdout",
     "output_type": "stream",
     "text": [
      "60\n"
     ]
    }
   ],
   "source": [
    "#W4A6\n",
    "def snt(n):\n",
    "    if n<2:\n",
    "        return False\n",
    "    for i in range(2,int(n**0.5)+1):\n",
    "        if n%i==0:\n",
    "            return False\n",
    "    return True\n",
    "sum=0\n",
    "a,b=map(int,input().split())\n",
    "for i in range(a,b+1):\n",
    "    if snt(i):\n",
    "        sum+=i\n",
    "print(sum)\n"
   ]
  },
  {
   "cell_type": "code",
   "execution_count": 10,
   "id": "bdf1859f",
   "metadata": {},
   "outputs": [
    {
     "name": "stdout",
     "output_type": "stream",
     "text": [
      "29\n"
     ]
    }
   ],
   "source": [
    "#W4A7\n",
    "def snt(n):\n",
    "    if n<2:\n",
    "        return False\n",
    "    for i in range(2,int(n**0.5)+1):\n",
    "        if n%i==0:\n",
    "            return False\n",
    "    return True\n",
    "n=int(input())\n",
    "i=2\n",
    "while n>1:\n",
    "    if n%i==0 and snt(i):\n",
    "        n/=i\n",
    "    else:\n",
    "        i+=1\n",
    "print(i)\n"
   ]
  },
  {
   "cell_type": "code",
   "execution_count": null,
   "id": "0ea17b41",
   "metadata": {},
   "outputs": [
    {
     "name": "stdout",
     "output_type": "stream",
     "text": [
      "2 8888\n"
     ]
    }
   ],
   "source": [
    "#W4A8\n",
    "def rev(v):\n",
    "    q=0\n",
    "    while v>0:\n",
    "        q=q*10+v%10\n",
    "        v//=10\n",
    "    return q\n",
    "n=int(input())\n",
    "step=0\n",
    "while n!=rev(n):\n",
    "    n=n+rev(n)\n",
    "    step+=1\n",
    "print(step,n,sep=' ')"
   ]
  },
  {
   "cell_type": "code",
   "execution_count": 15,
   "id": "bd080c95",
   "metadata": {},
   "outputs": [
    {
     "name": "stdout",
     "output_type": "stream",
     "text": [
      "0 1 4 9 16 25 36 49 64 81 "
     ]
    }
   ],
   "source": [
    "#W4A9\n",
    "def cp(n):\n",
    "    if n<0:\n",
    "        return False\n",
    "    r=int(n**0.5)\n",
    "    return r*r==n\n",
    "n=int(input())\n",
    "for i in range (n+1):\n",
    "    if cp(i):\n",
    "        s=str(i)\n",
    "        if len(s)==len(set(s)):\n",
    "            print(i,end=' ')"
   ]
  },
  {
   "cell_type": "code",
   "execution_count": 1,
   "id": "08d1e1ff",
   "metadata": {},
   "outputs": [
    {
     "name": "stdout",
     "output_type": "stream",
     "text": [
      "6 9\n"
     ]
    }
   ],
   "source": [
    "#W4A10\n",
    "def collatz(n):\n",
    "    step=1\n",
    "    while n>1:\n",
    "        if n%2==0:\n",
    "            n//=2\n",
    "        else:\n",
    "            n=3*n+1\n",
    "        step+=1\n",
    "    return step\n",
    "n=int(input())\n",
    "collatzma=1\n",
    "x=1\n",
    "for i in range(1,n+1):\n",
    "    if collatz(i)>collatzma:\n",
    "        collatzma=collatz(i)\n",
    "        x=i\n",
    "print(x,collatzma,sep=' ')"
   ]
  },
  {
   "cell_type": "code",
   "execution_count": 6,
   "id": "019af714",
   "metadata": {},
   "outputs": [
    {
     "name": "stdout",
     "output_type": "stream",
     "text": [
      "4\n"
     ]
    }
   ],
   "source": [
    "#W4A11\n",
    "n=int(input())\n",
    "ans=0\n",
    "for i in range(1,int(n**0.5)+1):\n",
    "    if n%i==0:\n",
    "        if i%2==0:\n",
    "            ans+=1\n",
    "        if n//i!=i and (n//i)%2==0:\n",
    "            ans+=1\n",
    "print(ans)\n"
   ]
  },
  {
   "cell_type": "code",
   "execution_count": 11,
   "id": "0cc2f2d4",
   "metadata": {},
   "outputs": [
    {
     "name": "stdout",
     "output_type": "stream",
     "text": [
      "9\n"
     ]
    }
   ],
   "source": [
    "#W4A12\n",
    "x,n=map(int,input().split())\n",
    "t=1\n",
    "for i in range(n):\n",
    "    t*=1.007\n",
    "print(f'{t*x:.0f}')"
   ]
  },
  {
   "cell_type": "code",
   "execution_count": 14,
   "id": "e84eaef6",
   "metadata": {},
   "outputs": [
    {
     "name": "stdout",
     "output_type": "stream",
     "text": [
      "true\n"
     ]
    }
   ],
   "source": [
    "#W4A13\n",
    "def tonguoc(n):\n",
    "    s=1\n",
    "    for i in range(2,int(n**0.5)+1):\n",
    "        if n%i==0:\n",
    "            s+=i\n",
    "            if n//i!=i:\n",
    "                s+=n//i\n",
    "    return s\n",
    "a,b=map(int,input().split())\n",
    "if tonguoc(a)==b and tonguoc(b)==a and a!=b:\n",
    "    print('true')\n",
    "else:\n",
    "    print('false')"
   ]
  },
  {
   "cell_type": "code",
   "execution_count": 15,
   "id": "4b5dff4d",
   "metadata": {},
   "outputs": [
    {
     "name": "stdout",
     "output_type": "stream",
     "text": [
      "3\n"
     ]
    }
   ],
   "source": [
    "#W4A14\n",
    "a,b=map(int,input().split())\n",
    "while b!=0:\n",
    "    a,b=b,a%b\n",
    "print(a)"
   ]
  },
  {
   "cell_type": "code",
   "execution_count": null,
   "id": "d52c8c96",
   "metadata": {},
   "outputs": [
    {
     "name": "stdout",
     "output_type": "stream",
     "text": [
      "14 22\n"
     ]
    }
   ],
   "source": [
    "#W4A15\n",
    "a,b=map(int,input().split())\n",
    "t=b-2*a\n",
    "if t%2==0 and t>0:\n",
    "    print(f'{a-t/2:.0f} {t/2:.0f}')\n",
    "else:\n",
    "    print('invaild')\n",
    "\n"
   ]
  }
 ],
 "metadata": {
  "kernelspec": {
   "display_name": "Python 3",
   "language": "python",
   "name": "python3"
  },
  "language_info": {
   "codemirror_mode": {
    "name": "ipython",
    "version": 3
   },
   "file_extension": ".py",
   "mimetype": "text/x-python",
   "name": "python",
   "nbconvert_exporter": "python",
   "pygments_lexer": "ipython3",
   "version": "3.13.7"
  }
 },
 "nbformat": 4,
 "nbformat_minor": 5
}
